{
  "nbformat": 4,
  "nbformat_minor": 0,
  "metadata": {
    "colab": {
      "name": "Untitled0.ipynb",
      "provenance": [],
      "authorship_tag": "ABX9TyOAwS6rYhixoelBbpOy3cfz"
    },
    "kernelspec": {
      "name": "python3",
      "display_name": "Python 3"
    }
  },
  "cells": [
    {
      "cell_type": "code",
      "metadata": {
        "id": "reh9g-Fxthvy",
        "colab_type": "code",
        "colab": {
          "base_uri": "https://localhost:8080/",
          "height": 34
        },
        "outputId": "cdd1b6e6-ee73-438a-f8ab-659d10c7a366"
      },
      "source": [
        "from os import listdir\n",
        "import string\n",
        "from pickle import dump\n",
        "\n",
        "from keras.applications.vgg16 import VGG16\n",
        "from keras.applications.vgg19 import VGG19\n",
        "from keras.applications.resnet50 import ResNet50\n",
        "from keras.applications.inception_v3 import InceptionV3\n",
        "from keras.applications.inception_resnet_v2 import InceptionResNetV2\n",
        "\n",
        "from keras.preprocessing.image import load_img, img_to_array\n",
        "from keras.applications.vgg16 import preprocess_input\n",
        "from keras.models import Model"
      ],
      "execution_count": 1,
      "outputs": [
        {
          "output_type": "stream",
          "text": [
            "Using TensorFlow backend.\n"
          ],
          "name": "stderr"
        }
      ]
    },
    {
      "cell_type": "code",
      "metadata": {
        "id": "b08WaooStnMS",
        "colab_type": "code",
        "colab": {}
      },
      "source": [
        "# feature extraction\n",
        "def feature_extraction(directory):\n",
        "\tmodel = VGG16()\n",
        " \t# model = VGG19()\n",
        "\t# model = InceptionV3()\n",
        "\t# model = ResNet50()\n",
        "\t# model = InceptionResNetV2()\n",
        "\t# feature_extractor = InceptionResNetV2(weights=\"imagenet\", include_top=False, input_tensor=Input(shape=(224, 224, 3)))\n",
        "\t# model = feature_extractor.output\n",
        "\t# model = GlobalAveragePooling2D()(model)\n",
        "\t# model = Dropout(0.5)(model)\n",
        "\t# model = Dense(4096, activation=\"relu\")(model)\n",
        "\t# model = Dropout(0.5)(model)\n",
        "\t# model = Dense(4096, activation=\"relu\")(model)\n",
        "\n",
        "\tmodel.layers.pop()\n",
        "\tmodel = Model(inputs=model.inputs, outputs=model.layers[-1].output)\n",
        "\n",
        "\tfeatures = dict()\n",
        "\tfor name in listdir(directory):\n",
        "\t\timg = load_img(directory + '/' + name, target_size=(224, 224))\n",
        "\t\timg = img_to_array(img)\n",
        "\t\timg = img.reshape((1, img.shape[0], img.shape[1], img.shape[2]))\n",
        "\t\timg_id = name.split('.')[0]\n",
        "\t\tfeatures[img_id] = model.predict(preprocess_input(img), verbose=0)\n",
        "\treturn features\n"
      ],
      "execution_count": 0,
      "outputs": []
    },
    {
      "cell_type": "code",
      "metadata": {
        "id": "yC5mMoJktqCx",
        "colab_type": "code",
        "colab": {}
      },
      "source": [
        "# extracting features and dumping the features into a pickle file\n",
        "directory = 'Flicker8k_Dataset'\n",
        "features = feature_extraction(directory)\n",
        "print('Number of Features Extracted:', len(features))\n",
        "dump(features, open('features.pkl', 'wb'))"
      ],
      "execution_count": 0,
      "outputs": []
    }
  ]
}